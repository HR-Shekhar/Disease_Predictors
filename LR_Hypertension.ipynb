{
 "cells": [
  {
   "cell_type": "code",
   "execution_count": 249,
   "id": "7c201d0b",
   "metadata": {},
   "outputs": [],
   "source": [
    "import numpy as np\n",
    "import pandas as pd\n",
    "from sklearn.model_selection import train_test_split\n",
    "from sklearn.preprocessing import StandardScaler\n",
    "import math\n",
    "import matplotlib.pyplot as plt\n",
    "import seaborn as sns\n",
    "from sklearn.metrics import accuracy_score"
   ]
  },
  {
   "cell_type": "markdown",
   "id": "422f9872",
   "metadata": {},
   "source": [
    "sex : patient's gender (1: male; 0: female)\n",
    "\n",
    "cp : Chest pain type: 0: asymptomatic 1: typical angina 2: atypical angina 3: non-anginal pain\n",
    "\n",
    "trestbps : Resting blood pressure (in mm Hg)\n",
    "\n",
    "chol : Serum cholestoral in mg/dl\n",
    "\n",
    "fbs : if the patient's fasting blood sugar > 120 mg/dl (1: yes; 0: no)\n",
    "\n",
    "restecg : Resting ECG results: 0: normal 1: ST-T wave abnormality (T wave inversions and/or ST elevation or depression \n",
    "\n",
    "thalach : Maximum heart rate achieved.\n",
    "\n",
    "exang : Exercise induced angina (1: yes; 0: no)\n",
    "\n",
    "oldpeak : ST depression induced by exercise relative to rest.\n",
    "\n",
    "slope : The slope of the peak exercise ST segment: 0: upsloping 1: flat 2: downsloping\n",
    "\n",
    "ca : Number of major vessels (0–3) colored by flourosopy\n",
    "\n",
    "thal : 3: Normal; 6: Fixed defect; 7: Reversable defect\n",
    "\n",
    "target : Whether the patient has hypertension (1) or not (0)"
   ]
  },
  {
   "cell_type": "code",
   "execution_count": 250,
   "id": "3a7b4cf8",
   "metadata": {},
   "outputs": [
    {
     "data": {
      "text/html": [
       "<div>\n",
       "<style scoped>\n",
       "    .dataframe tbody tr th:only-of-type {\n",
       "        vertical-align: middle;\n",
       "    }\n",
       "\n",
       "    .dataframe tbody tr th {\n",
       "        vertical-align: top;\n",
       "    }\n",
       "\n",
       "    .dataframe thead th {\n",
       "        text-align: right;\n",
       "    }\n",
       "</style>\n",
       "<table border=\"1\" class=\"dataframe\">\n",
       "  <thead>\n",
       "    <tr style=\"text-align: right;\">\n",
       "      <th></th>\n",
       "      <th>age</th>\n",
       "      <th>sex</th>\n",
       "      <th>cp</th>\n",
       "      <th>trestbps</th>\n",
       "      <th>chol</th>\n",
       "      <th>fbs</th>\n",
       "      <th>restecg</th>\n",
       "      <th>thalach</th>\n",
       "      <th>exang</th>\n",
       "      <th>oldpeak</th>\n",
       "      <th>slope</th>\n",
       "      <th>ca</th>\n",
       "      <th>thal</th>\n",
       "      <th>target</th>\n",
       "    </tr>\n",
       "  </thead>\n",
       "  <tbody>\n",
       "    <tr>\n",
       "      <th>0</th>\n",
       "      <td>57.0</td>\n",
       "      <td>1.0</td>\n",
       "      <td>3</td>\n",
       "      <td>145</td>\n",
       "      <td>233</td>\n",
       "      <td>1</td>\n",
       "      <td>0</td>\n",
       "      <td>150</td>\n",
       "      <td>0</td>\n",
       "      <td>2.3</td>\n",
       "      <td>0</td>\n",
       "      <td>0</td>\n",
       "      <td>1</td>\n",
       "      <td>1</td>\n",
       "    </tr>\n",
       "    <tr>\n",
       "      <th>1</th>\n",
       "      <td>64.0</td>\n",
       "      <td>0.0</td>\n",
       "      <td>2</td>\n",
       "      <td>130</td>\n",
       "      <td>250</td>\n",
       "      <td>0</td>\n",
       "      <td>1</td>\n",
       "      <td>187</td>\n",
       "      <td>0</td>\n",
       "      <td>3.5</td>\n",
       "      <td>0</td>\n",
       "      <td>0</td>\n",
       "      <td>2</td>\n",
       "      <td>1</td>\n",
       "    </tr>\n",
       "    <tr>\n",
       "      <th>2</th>\n",
       "      <td>52.0</td>\n",
       "      <td>1.0</td>\n",
       "      <td>1</td>\n",
       "      <td>130</td>\n",
       "      <td>204</td>\n",
       "      <td>0</td>\n",
       "      <td>0</td>\n",
       "      <td>172</td>\n",
       "      <td>0</td>\n",
       "      <td>1.4</td>\n",
       "      <td>2</td>\n",
       "      <td>0</td>\n",
       "      <td>2</td>\n",
       "      <td>1</td>\n",
       "    </tr>\n",
       "    <tr>\n",
       "      <th>3</th>\n",
       "      <td>56.0</td>\n",
       "      <td>0.0</td>\n",
       "      <td>1</td>\n",
       "      <td>120</td>\n",
       "      <td>236</td>\n",
       "      <td>0</td>\n",
       "      <td>1</td>\n",
       "      <td>178</td>\n",
       "      <td>0</td>\n",
       "      <td>0.8</td>\n",
       "      <td>2</td>\n",
       "      <td>0</td>\n",
       "      <td>2</td>\n",
       "      <td>1</td>\n",
       "    </tr>\n",
       "    <tr>\n",
       "      <th>4</th>\n",
       "      <td>66.0</td>\n",
       "      <td>0.0</td>\n",
       "      <td>0</td>\n",
       "      <td>120</td>\n",
       "      <td>354</td>\n",
       "      <td>0</td>\n",
       "      <td>1</td>\n",
       "      <td>163</td>\n",
       "      <td>1</td>\n",
       "      <td>0.6</td>\n",
       "      <td>2</td>\n",
       "      <td>0</td>\n",
       "      <td>2</td>\n",
       "      <td>1</td>\n",
       "    </tr>\n",
       "    <tr>\n",
       "      <th>...</th>\n",
       "      <td>...</td>\n",
       "      <td>...</td>\n",
       "      <td>...</td>\n",
       "      <td>...</td>\n",
       "      <td>...</td>\n",
       "      <td>...</td>\n",
       "      <td>...</td>\n",
       "      <td>...</td>\n",
       "      <td>...</td>\n",
       "      <td>...</td>\n",
       "      <td>...</td>\n",
       "      <td>...</td>\n",
       "      <td>...</td>\n",
       "      <td>...</td>\n",
       "    </tr>\n",
       "    <tr>\n",
       "      <th>26078</th>\n",
       "      <td>72.0</td>\n",
       "      <td>0.0</td>\n",
       "      <td>0</td>\n",
       "      <td>138</td>\n",
       "      <td>294</td>\n",
       "      <td>1</td>\n",
       "      <td>1</td>\n",
       "      <td>106</td>\n",
       "      <td>0</td>\n",
       "      <td>1.9</td>\n",
       "      <td>1</td>\n",
       "      <td>3</td>\n",
       "      <td>2</td>\n",
       "      <td>0</td>\n",
       "    </tr>\n",
       "    <tr>\n",
       "      <th>26079</th>\n",
       "      <td>60.0</td>\n",
       "      <td>1.0</td>\n",
       "      <td>0</td>\n",
       "      <td>144</td>\n",
       "      <td>200</td>\n",
       "      <td>0</td>\n",
       "      <td>0</td>\n",
       "      <td>126</td>\n",
       "      <td>1</td>\n",
       "      <td>0.9</td>\n",
       "      <td>1</td>\n",
       "      <td>0</td>\n",
       "      <td>3</td>\n",
       "      <td>0</td>\n",
       "    </tr>\n",
       "    <tr>\n",
       "      <th>26080</th>\n",
       "      <td>68.0</td>\n",
       "      <td>1.0</td>\n",
       "      <td>0</td>\n",
       "      <td>100</td>\n",
       "      <td>234</td>\n",
       "      <td>0</td>\n",
       "      <td>1</td>\n",
       "      <td>156</td>\n",
       "      <td>0</td>\n",
       "      <td>0.1</td>\n",
       "      <td>2</td>\n",
       "      <td>1</td>\n",
       "      <td>3</td>\n",
       "      <td>0</td>\n",
       "    </tr>\n",
       "    <tr>\n",
       "      <th>26081</th>\n",
       "      <td>67.0</td>\n",
       "      <td>1.0</td>\n",
       "      <td>1</td>\n",
       "      <td>154</td>\n",
       "      <td>232</td>\n",
       "      <td>0</td>\n",
       "      <td>0</td>\n",
       "      <td>164</td>\n",
       "      <td>0</td>\n",
       "      <td>0.0</td>\n",
       "      <td>2</td>\n",
       "      <td>1</td>\n",
       "      <td>2</td>\n",
       "      <td>0</td>\n",
       "    </tr>\n",
       "    <tr>\n",
       "      <th>26082</th>\n",
       "      <td>67.0</td>\n",
       "      <td>0.0</td>\n",
       "      <td>1</td>\n",
       "      <td>130</td>\n",
       "      <td>236</td>\n",
       "      <td>0</td>\n",
       "      <td>0</td>\n",
       "      <td>174</td>\n",
       "      <td>0</td>\n",
       "      <td>0.0</td>\n",
       "      <td>1</td>\n",
       "      <td>1</td>\n",
       "      <td>2</td>\n",
       "      <td>0</td>\n",
       "    </tr>\n",
       "  </tbody>\n",
       "</table>\n",
       "<p>26083 rows × 14 columns</p>\n",
       "</div>"
      ],
      "text/plain": [
       "        age  sex  cp  trestbps  chol  fbs  restecg  thalach  exang  oldpeak  \\\n",
       "0      57.0  1.0   3       145   233    1        0      150      0      2.3   \n",
       "1      64.0  0.0   2       130   250    0        1      187      0      3.5   \n",
       "2      52.0  1.0   1       130   204    0        0      172      0      1.4   \n",
       "3      56.0  0.0   1       120   236    0        1      178      0      0.8   \n",
       "4      66.0  0.0   0       120   354    0        1      163      1      0.6   \n",
       "...     ...  ...  ..       ...   ...  ...      ...      ...    ...      ...   \n",
       "26078  72.0  0.0   0       138   294    1        1      106      0      1.9   \n",
       "26079  60.0  1.0   0       144   200    0        0      126      1      0.9   \n",
       "26080  68.0  1.0   0       100   234    0        1      156      0      0.1   \n",
       "26081  67.0  1.0   1       154   232    0        0      164      0      0.0   \n",
       "26082  67.0  0.0   1       130   236    0        0      174      0      0.0   \n",
       "\n",
       "       slope  ca  thal  target  \n",
       "0          0   0     1       1  \n",
       "1          0   0     2       1  \n",
       "2          2   0     2       1  \n",
       "3          2   0     2       1  \n",
       "4          2   0     2       1  \n",
       "...      ...  ..   ...     ...  \n",
       "26078      1   3     2       0  \n",
       "26079      1   0     3       0  \n",
       "26080      2   1     3       0  \n",
       "26081      2   1     2       0  \n",
       "26082      1   1     2       0  \n",
       "\n",
       "[26083 rows x 14 columns]"
      ]
     },
     "execution_count": 250,
     "metadata": {},
     "output_type": "execute_result"
    }
   ],
   "source": [
    "df = pd.read_csv('./hypertension_data.csv')\n",
    "df"
   ]
  },
  {
   "cell_type": "code",
   "execution_count": 251,
   "id": "0f35915a",
   "metadata": {},
   "outputs": [],
   "source": [
    "df=df.dropna()"
   ]
  },
  {
   "cell_type": "code",
   "execution_count": 252,
   "id": "937efbba",
   "metadata": {},
   "outputs": [],
   "source": [
    "X = df.drop(columns='target').to_numpy()\n",
    "y = df['target'].to_numpy()\n",
    "\n",
    "X_train, X_, y_train, y_ = train_test_split(X,y, test_size=0.40, random_state=42)\n",
    "X_cv, X_test, y_cv, y_test = train_test_split(X_,y_, test_size=0.50, random_state=42)"
   ]
  },
  {
   "cell_type": "code",
   "execution_count": 253,
   "id": "7dc6be20",
   "metadata": {},
   "outputs": [],
   "source": [
    "scaler = StandardScaler()\n",
    "X_train = scaler.fit_transform(X_train)\n",
    "X_cv = scaler.transform(X_cv)\n",
    "X_test = scaler.transform(X_test)"
   ]
  },
  {
   "cell_type": "code",
   "execution_count": 254,
   "id": "514047a0",
   "metadata": {},
   "outputs": [],
   "source": [
    "def sigmoid(z):\n",
    "    z = np.clip(z, -500, 500)  # Clip values to prevent overflow\n",
    "    return 1 / (1 + np.exp(-z))"
   ]
  },
  {
   "cell_type": "code",
   "execution_count": 255,
   "id": "09397fd1",
   "metadata": {},
   "outputs": [],
   "source": [
    "def compute_cost(X, y, w, b, lambda_):\n",
    "    m, n = X.shape\n",
    "\n",
    "    loss_sum = 0.0\n",
    "    epsilon = 1e-10  # Avoid log(0) issues\n",
    "    for i in range(m):\n",
    "        z_wb = np.dot(w, X[i]) + b\n",
    "        f_wb = sigmoid(z_wb)\n",
    "        # loss = -y[i] * np.log(f_wb) - (1-y[i]) * np.log(1 - f_wb) \n",
    "        loss = -y[i] * np.log(np.clip(f_wb, epsilon, 1 - epsilon)) - (1 - y[i]) * np.log(np.clip(1 - f_wb, epsilon, 1 - epsilon))\n",
    "        loss_sum += loss\n",
    "\n",
    "    cost = loss_sum / m\n",
    "    reg_cost = 0.0\n",
    "    for j in range(n):\n",
    "        reg_cost_j = w[j] ** 2\n",
    "        reg_cost += reg_cost_j\n",
    "    reg_cost = (lambda_ / (2 * m)) * reg_cost\n",
    "    total_cost = reg_cost + cost    \n",
    "    return total_cost"
   ]
  },
  {
   "cell_type": "code",
   "execution_count": 256,
   "id": "371e4ddf",
   "metadata": {},
   "outputs": [
    {
     "name": "stdout",
     "output_type": "stream",
     "text": [
      "Regularized cost : 1.0375716967885056\n"
     ]
    }
   ],
   "source": [
    "np.random.seed(42)\n",
    "initial_w = np.random.rand(X_train.shape[1]) - 0.5\n",
    "initial_b = 0.5\n",
    "lambda_ = 0.5\n",
    "cost = compute_cost(X_train, y_train, initial_w, initial_b, lambda_)\n",
    "\n",
    "print(\"Regularized cost :\", cost)"
   ]
  },
  {
   "cell_type": "code",
   "execution_count": 257,
   "id": "a3fd8864",
   "metadata": {},
   "outputs": [],
   "source": [
    "def compute_gradient(X, y, w, b, lambda_):\n",
    "    m,n = X.shape\n",
    "    dj_dw = 0.\n",
    "    dj_db = 0.\n",
    "\n",
    "    for i in range(m):\n",
    "        z_wb = np.dot(w, X[i]) + b\n",
    "        f_wb = sigmoid(z_wb)\n",
    "        dj_dw += (f_wb - y[i]) * X[i]\n",
    "        dj_db += (f_wb - y[i])\n",
    "    \n",
    "    dj_dw = dj_dw/m\n",
    "    dj_db = dj_db/m\n",
    "    \n",
    "    for j in range(n):\n",
    "        dj_dw[j] += (lambda_/m) * w[j]\n",
    "\n",
    "    return dj_dw, dj_db"
   ]
  },
  {
   "cell_type": "code",
   "execution_count": 258,
   "id": "68cb1eb7",
   "metadata": {},
   "outputs": [
    {
     "name": "stdout",
     "output_type": "stream",
     "text": [
      "[-0.04449482 -0.05893364 -0.25835321  0.02643336  0.04792159 -0.00989715\n",
      " -0.10377028 -0.17647829  0.16611103  0.17864102 -0.1620252   0.18489526\n",
      "  0.22473068] and 0.06493455457773842\n"
     ]
    }
   ],
   "source": [
    "# test\n",
    "initial_w  = np.random.rand(X_train.shape[1]) - 0.5 \n",
    "initial_b = 0.5\n",
    " \n",
    "lambda_ = 0.5\n",
    "dj_dw, dj_db = compute_gradient(X_train, y_train, initial_w, initial_b, lambda_)\n",
    "print(dj_dw, \"and\", dj_db)"
   ]
  },
  {
   "cell_type": "code",
   "execution_count": 259,
   "id": "b6db4a27",
   "metadata": {},
   "outputs": [],
   "source": [
    "def gradient_descent(X, y, w_in, b_in, alpha, lambda_, compute_cost, compute_gradient, num_iters):\n",
    "    J_history = []\n",
    "    w_history = []\n",
    "\n",
    "    w = w_in\n",
    "    b = b_in\n",
    "\n",
    "    for i in range(num_iters):  # Iterate num_iters times, not m times\n",
    "        dj_dw, dj_db = compute_gradient(X, y, w, b, lambda_)  # Compute gradient at each step\n",
    "\n",
    "        w = w - (alpha * dj_dw)  # Update weights\n",
    "        b = b - (alpha * dj_db)  # Update bias\n",
    "\n",
    "        cost = compute_cost(X, y, w, b, lambda_)  # Compute cost correctly\n",
    "        J_history.append(cost)\n",
    "\n",
    "        if i % math.ceil(num_iters / 10) == 0 or i == (num_iters - 1):\n",
    "            w_history.append(w)\n",
    "            print(f\"Iteration {i:4}: Cost {float(J_history[-1]):8.2f}\")\n",
    "\n",
    "    return w, b, J_history, w_history  # Return updated values\n"
   ]
  },
  {
   "cell_type": "code",
   "execution_count": 260,
   "id": "83b7f26c",
   "metadata": {},
   "outputs": [
    {
     "name": "stdout",
     "output_type": "stream",
     "text": [
      "10000\n"
     ]
    }
   ],
   "source": [
    "import sys\n",
    "sys.setrecursionlimit(10000)\n",
    "print(sys.getrecursionlimit())  # Check recursion limit"
   ]
  },
  {
   "cell_type": "code",
   "execution_count": 261,
   "id": "295ab2e6",
   "metadata": {},
   "outputs": [
    {
     "name": "stdout",
     "output_type": "stream",
     "text": [
      "Iteration    0: Cost     1.18\n",
      "Iteration  260: Cost     0.57\n",
      "Iteration  520: Cost     0.45\n",
      "Iteration  780: Cost     0.41\n",
      "Iteration 1040: Cost     0.40\n",
      "Iteration 1300: Cost     0.39\n",
      "Iteration 1560: Cost     0.38\n",
      "Iteration 1820: Cost     0.38\n",
      "Iteration 2080: Cost     0.37\n",
      "Iteration 2340: Cost     0.37\n",
      "Iteration 2599: Cost     0.37\n"
     ]
    }
   ],
   "source": [
    "a = np.shape(X_train)[1]\n",
    "initial_w = np.random.rand(a)\n",
    "initial_b = 0.\n",
    "\n",
    "w,b,_,_= gradient_descent(X_train, y_train, initial_w, initial_b,\n",
    "                          0.01, 0.9, compute_cost, compute_gradient, num_iters= 2600)"
   ]
  },
  {
   "cell_type": "code",
   "execution_count": 262,
   "id": "9066187c",
   "metadata": {},
   "outputs": [],
   "source": [
    "def predict(X, w, b): \n",
    "\n",
    "    m = X.shape[0] \n",
    "    p = np.zeros(m)\n",
    "\n",
    "    # Loop over each example\n",
    "    for i in range(m):   \n",
    "        z_wb = 0\n",
    "        z_wb = np.dot(w, X[i]) + b\n",
    "        \n",
    "        # Calculate the prediction for this example\n",
    "        f_wb = sigmoid(z_wb)\n",
    "\n",
    "        # Apply the threshold\n",
    "        p[i] = f_wb >= 0.5\n",
    "        \n",
    "    return p"
   ]
  },
  {
   "cell_type": "code",
   "execution_count": 263,
   "id": "7690ffd9",
   "metadata": {},
   "outputs": [
    {
     "name": "stdout",
     "output_type": "stream",
     "text": [
      "0.8459324635456639\n"
     ]
    }
   ],
   "source": [
    "y_cv_pred = predict(X_cv, w, b)\n",
    "accs = accuracy_score(y_cv, y_cv_pred)\n",
    "print(accs)"
   ]
  },
  {
   "cell_type": "code",
   "execution_count": 264,
   "id": "fd838855",
   "metadata": {},
   "outputs": [
    {
     "name": "stdout",
     "output_type": "stream",
     "text": [
      "0.8443975441289332\n"
     ]
    }
   ],
   "source": [
    "y_test_pred = predict(X_test, w, b)\n",
    "accs = accuracy_score(y_test, y_test_pred)\n",
    "print(accs)"
   ]
  },
  {
   "cell_type": "code",
   "execution_count": 265,
   "id": "398de68f",
   "metadata": {},
   "outputs": [
    {
     "data": {
      "text/plain": [
       "['Hypertension.pkl']"
      ]
     },
     "execution_count": 265,
     "metadata": {},
     "output_type": "execute_result"
    }
   ],
   "source": [
    "import joblib\n",
    "\n",
    "model_params = {\n",
    "    \"w\": w,\n",
    "    \"b\": b,\n",
    "    \"scaler\": scaler\n",
    "}\n",
    "joblib.dump(model_params, \"Hypertension.pkl\")"
   ]
  }
 ],
 "metadata": {
  "kernelspec": {
   "display_name": "ml_env",
   "language": "python",
   "name": "python3"
  },
  "language_info": {
   "codemirror_mode": {
    "name": "ipython",
    "version": 3
   },
   "file_extension": ".py",
   "mimetype": "text/x-python",
   "name": "python",
   "nbconvert_exporter": "python",
   "pygments_lexer": "ipython3",
   "version": "3.12.9"
  }
 },
 "nbformat": 4,
 "nbformat_minor": 5
}
